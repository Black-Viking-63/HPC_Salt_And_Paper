{
  "nbformat": 4,
  "nbformat_minor": 0,
  "metadata": {
    "colab": {
      "name": "Мелешенко_6133_Salt_And_Paper.ipynb",
      "provenance": []
    },
    "kernelspec": {
      "name": "python3",
      "display_name": "Python 3"
    },
    "language_info": {
      "name": "python"
    },
    "accelerator": "GPU"
  },
  "cells": [
    {
      "cell_type": "code",
      "metadata": {
        "id": "UdWMJWWEgWf_"
      },
      "source": [
        "import numpy as np\n",
        "import numba\n",
        "from numba import cuda\n",
        "import math\n",
        "from time import time\n",
        "from PIL import Image"
      ],
      "execution_count": 1,
      "outputs": []
    },
    {
      "cell_type": "code",
      "metadata": {
        "id": "7MdTrAccgbD5"
      },
      "source": [
        "def salt_and_pepper_add(image, prob):\n",
        "  rnd = np.random.rand(image.shape[0], image.shape[1])\n",
        "  noisy = image.copy()\n",
        "  noisy[rnd < prob] = 0\n",
        "  noisy[rnd > 1 - prob] = 255\n",
        "  return noisy"
      ],
      "execution_count": 2,
      "outputs": []
    },
    {
      "cell_type": "code",
      "metadata": {
        "id": "48czTB5hgepI"
      },
      "source": [
        "def median_filter(a):\n",
        "  b = a.copy()\n",
        "  start = time()\n",
        "  for i in range(2, len(a)-1):\n",
        "    for j in range(2, len(a[i])-1):\n",
        "      t=[0, 0, 0, 0, 0, 0, 0, 0, 0]\n",
        "      t[0], t[1], t[2], t[3], t[4], t[5], t[6], t[7], t[8] = a[i-1][j-1], a[i-1][j], a[i-1][j+1], a[i][j-1], a[i][j], a[i][j+1], a[i+1][j-1], a[i+1][j], a[i+1][j+1]\n",
        "      for k in range(8):\n",
        "        for l in range(8-k):\n",
        "          if t[l]>t[l+1]:\n",
        "            t[l], t[l+1] = t[l+1], t[l]\n",
        "      b[i][j]=t[(int)(len(t)/2)]\n",
        "  return b, time()-start"
      ],
      "execution_count": 3,
      "outputs": []
    },
    {
      "cell_type": "code",
      "metadata": {
        "id": "P2yJc317gh8n"
      },
      "source": [
        "@cuda.jit\n",
        "def gpu_median_filter(a, b):\n",
        "  i, j = cuda.grid(2)\n",
        "  t=cuda.local.array(shape=9, dtype=numba.int64)\n",
        "  t[0], t[1], t[2], t[3], t[4], t[5], t[6], t[7], t[8] = a[i-1][j-1], a[i-1][j], a[i-1][j+1], a[i][j-1], a[i][j], a[i][j+1], a[i+1][j-1], a[i+1][j], a[i+1][j+1]\n",
        "  for k in range(8):\n",
        "    for l in range(8-k):\n",
        "      if t[l]>t[l+1]:\n",
        "        t[l], t[l+1] = t[l+1], t[l]\n",
        "  b[i][j]=t[(int)(len(t)/2)]"
      ],
      "execution_count": 4,
      "outputs": []
    },
    {
      "cell_type": "code",
      "metadata": {
        "id": "0BLcNFl_gj5f"
      },
      "source": [
        "def prepare_and_exec_gpu(a):\n",
        "  b = a.copy()\n",
        "  tread_number_block = 32\n",
        "\n",
        "  a_global = cuda.to_device(a)\n",
        "  b_global = cuda.to_device(b)\n",
        "    \n",
        "  threadsperblock = (tread_number_block, tread_number_block)\n",
        "  blockspergrid_x = int(math.ceil(a.shape[0] / threadsperblock[1]))\n",
        "  blockspergrid_y = int(math.ceil(b.shape[1] / threadsperblock[0]))\n",
        "  blockspergrid = (blockspergrid_x, blockspergrid_y)\n",
        "\n",
        "  start = time()\n",
        "  gpu_median_filter[blockspergrid, threadsperblock](a_global, b_global)\n",
        "  return b_global.copy_to_host(), time()-start "
      ],
      "execution_count": 5,
      "outputs": []
    },
    {
      "cell_type": "code",
      "metadata": {
        "id": "cppIGwSQgoPv"
      },
      "source": [
        "def experiment(img_name, need_draw):\n",
        "  im=(Image.open(img_name)).convert('L')\n",
        "  if need_draw==True:\n",
        "    display(im)\n",
        "  img = np.array(im)\n",
        "\n",
        "  img = salt_and_pepper_add(img, 0.09)\n",
        "  if need_draw==True:\n",
        "    display(Image.fromarray(np.uint8(img)))\n",
        "    img3 = Image.fromarray(np.uint8(img))\n",
        "    img3.save('SAP.jpg')\n",
        "\n",
        "  img1, ctime = median_filter(img)\n",
        "  if need_draw==True:\n",
        "    display(Image.fromarray(np.uint8(img1)))\n",
        "    img4 = Image.fromarray(np.uint8(img1))\n",
        "    img4.save('CPU.jpg')\n",
        "\n",
        "  img2, gtime = prepare_and_exec_gpu(img)\n",
        "  if need_draw==True:\n",
        "    display(Image.fromarray(np.uint8(img2)))\n",
        "    img5 = Image.fromarray(np.uint8(img2))\n",
        "    img5.save('GPU.jpg')\n",
        "  \n",
        "  n=len(img)*len(img[0])\n",
        "  print('Количество элементов =', n)\n",
        "  print('Время на CPU =', ctime)\n",
        "  print('Время на GPU =', gtime)\n",
        "  print('Ускорение =', ctime/gtime)\n",
        "  print()\n",
        "  return ctime/gtime, n"
      ],
      "execution_count": 6,
      "outputs": []
    },
    {
      "cell_type": "code",
      "metadata": {
        "colab": {
          "base_uri": "https://localhost:8080/"
        },
        "id": "iL-TrZcWgquA",
        "outputId": "b96522bf-795f-4808-8af5-f7880709bf68"
      },
      "source": [
        "a1, n1 = experiment('price1.jpg', False)\n",
        "a2, n2 = experiment('price2.jpg', False)\n",
        "a3, n3 = experiment('price3.jpg', False)\n",
        "a4, n4 = experiment('price4.jpg', False)"
      ],
      "execution_count": 8,
      "outputs": [
        {
          "output_type": "stream",
          "name": "stdout",
          "text": [
            "Количество элементов = 91908\n",
            "Время на CPU = 1.2830479145050049\n",
            "Время на GPU = 0.0008296966552734375\n",
            "Ускорение = 1546.4060344827585\n",
            "\n",
            "Количество элементов = 810000\n",
            "Время на CPU = 10.96475863456726\n",
            "Время на GPU = 0.0031464099884033203\n",
            "Ускорение = 3484.847389558233\n",
            "\n",
            "Количество элементов = 172800\n",
            "Время на CPU = 2.316943883895874\n",
            "Время на GPU = 0.0010488033294677734\n",
            "Ускорение = 2209.1309388497384\n",
            "\n",
            "Количество элементов = 1047552\n",
            "Время на CPU = 14.559786081314087\n",
            "Время на GPU = 0.003742694854736328\n",
            "Ускорение = 3890.1878583259013\n",
            "\n"
          ]
        }
      ]
    }
  ]
}